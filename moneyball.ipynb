{
 "cells": [
  {
   "cell_type": "markdown",
   "metadata": {},
   "source": [
    "# Money Ball"
   ]
  },
  {
   "cell_type": "code",
   "execution_count": 1,
   "metadata": {
    "collapsed": true
   },
   "outputs": [],
   "source": [
    "from data import *\n",
    "import pandas as pd\n",
    "import numpy as np\n",
    "import datetime\n",
    "import matplotlib.pyplot as plt"
   ]
  },
  {
   "cell_type": "markdown",
   "metadata": {},
   "source": [
    "## Read and merge CSV data with current stats"
   ]
  },
  {
   "cell_type": "code",
   "execution_count": 2,
   "metadata": {
    "collapsed": true
   },
   "outputs": [],
   "source": [
    "main = pd.read_csv('data/Master.csv', dtype='str')\n",
    "main = main[['playerID', 'nameFirst', 'nameLast', 'finalGame']].copy()\n",
    "batting = pd.read_csv('data/Batting.csv', dtype='str')\n",
    "batting = batting[['playerID', 'yearID', 'AB', 'R', 'H', 'HR', 'RBI', 'BB', 'HBP', 'SF']].copy()\n",
    "salaries = pd.read_csv('data/Salaries.csv', dtype='str')\n",
    "salaries = salaries[['yearID', 'teamID', 'playerID', 'salary']].copy()\n",
    "fielding = pd.read_csv('data/Fielding.csv', dtype='str')\n",
    "fielding = fielding[['playerID', 'yearID', 'POS', 'G']].copy()\n",
    "test = pd.merge(pd.merge(main, salaries), batting)\n",
    "stats = pd.merge(test, fielding)"
   ]
  },
  {
   "cell_type": "markdown",
   "metadata": {},
   "source": [
    "## Change value types to ints for necessary calculations"
   ]
  },
  {
   "cell_type": "code",
   "execution_count": 3,
   "metadata": {
    "collapsed": true
   },
   "outputs": [],
   "source": [
    "stats['H'] = stats['H'].astype(float)\n",
    "stats['BB'] = stats['BB'].astype(float)\n",
    "stats['HBP'] = stats['HBP'].astype(float)\n",
    "stats['AB'] = stats['AB'].astype(float)\n",
    "stats['SF'] = stats['SF'].astype(float)\n",
    "stats['G'] = stats['G'].astype(float)\n",
    "stats['salary'] = stats['salary'].astype(float)"
   ]
  },
  {
   "cell_type": "markdown",
   "metadata": {},
   "source": [
    "## Create OBP row in dataframe"
   ]
  },
  {
   "cell_type": "code",
   "execution_count": 4,
   "metadata": {
    "collapsed": true
   },
   "outputs": [],
   "source": [
    "stats['OBP'] = ((stats.H) + (stats.BB) + (stats.HBP))/((stats.AB) + (stats.BB) + (stats.HBP) + \n",
    "                                                       (stats.SF))"
   ]
  },
  {
   "cell_type": "markdown",
   "metadata": {},
   "source": [
    "## Reduce dataframe by parameters"
   ]
  },
  {
   "cell_type": "code",
   "execution_count": 5,
   "metadata": {
    "collapsed": false
   },
   "outputs": [],
   "source": [
    "stats = stats[(stats.AB > 30)]\n",
    "stats = stats[(stats.G > 20)]\n",
    "stats = stats[(stats.POS != 'OF')]\n",
    "stats = stats[(stats.yearID == '2015')]\n",
    "stats = stats[(stats.salary < 1000000)].sort_values(by='OBP', ascending=False)\n",
    "stats.index = stats.POS"
   ]
  },
  {
   "cell_type": "markdown",
   "metadata": {},
   "source": [
    "## Find each player based on parameters above"
   ]
  },
  {
   "cell_type": "code",
   "execution_count": 6,
   "metadata": {
    "collapsed": false
   },
   "outputs": [],
   "source": [
    "first_base = (stats[(stats.POS == '1B')])[:1]\n",
    "second_base = stats[(stats.POS == '2B')][:1]\n",
    "third_base = stats[(stats.POS == '3B')][:1]\n",
    "left_field = stats[(stats.POS == 'LF')][:1]\n",
    "center_field = stats[(stats.POS == 'CF')][:1]\n",
    "right_field = stats[(stats.POS == 'RF')][:1]\n",
    "short_stop = stats[(stats.POS == 'SS')][:1]\n",
    "catcher = stats[(stats.POS == 'C')][:1]\n",
    "pitcher = stats[(stats.POS == 'P')][:1]\n"
   ]
  },
  {
   "cell_type": "markdown",
   "metadata": {},
   "source": [
    "## Create new blank data frame"
   ]
  },
  {
   "cell_type": "code",
   "execution_count": 7,
   "metadata": {
    "collapsed": true
   },
   "outputs": [],
   "source": [
    "column_names=['playerID', 'nameFirst', 'nameLast', 'finalGame', 'yearID', 'teamID',\n",
    "              'salary', 'AB', 'R', 'H', 'HR', 'RBI', 'BB', 'HBP', 'SF', 'POS', 'G', 'OBP']"
   ]
  },
  {
   "cell_type": "code",
   "execution_count": 8,
   "metadata": {
    "collapsed": true
   },
   "outputs": [],
   "source": [
    " df = pd.DataFrame(np.nan, index=['1B','2B','3B','LF', 'RF', 'CF', 'SS', \"C\", 'P'], \n",
    "                   columns = column_names)"
   ]
  },
  {
   "cell_type": "markdown",
   "metadata": {},
   "source": [
    "## Add players to blank dataframe"
   ]
  },
  {
   "cell_type": "code",
   "execution_count": 9,
   "metadata": {
    "collapsed": true
   },
   "outputs": [],
   "source": [
    "df[:1] = first_base\n",
    "df[1:2] = second_base\n",
    "df[2:3] = third_base\n",
    "df[3:4] = left_field\n",
    "df[4:5] = right_field\n",
    "df[5:6] = center_field\n",
    "df[6:7] = short_stop\n",
    "df[7:8] = catcher\n",
    "df[8:9] = pitcher\n"
   ]
  },
  {
   "cell_type": "code",
   "execution_count": 10,
   "metadata": {
    "collapsed": false
   },
   "outputs": [
    {
     "data": {
      "text/html": [
       "<div>\n",
       "<table border=\"1\" class=\"dataframe\">\n",
       "  <thead>\n",
       "    <tr style=\"text-align: right;\">\n",
       "      <th></th>\n",
       "      <th>playerID</th>\n",
       "      <th>nameFirst</th>\n",
       "      <th>nameLast</th>\n",
       "      <th>finalGame</th>\n",
       "      <th>yearID</th>\n",
       "      <th>teamID</th>\n",
       "      <th>salary</th>\n",
       "      <th>AB</th>\n",
       "      <th>R</th>\n",
       "      <th>H</th>\n",
       "      <th>HR</th>\n",
       "      <th>RBI</th>\n",
       "      <th>BB</th>\n",
       "      <th>HBP</th>\n",
       "      <th>SF</th>\n",
       "      <th>POS</th>\n",
       "      <th>G</th>\n",
       "      <th>OBP</th>\n",
       "    </tr>\n",
       "  </thead>\n",
       "  <tbody>\n",
       "    <tr>\n",
       "      <th>1B</th>\n",
       "      <td>rogerja02</td>\n",
       "      <td>Jason</td>\n",
       "      <td>Rogers</td>\n",
       "      <td>2015-10-03</td>\n",
       "      <td>2015</td>\n",
       "      <td>MIL</td>\n",
       "      <td>507500.0</td>\n",
       "      <td>152.0</td>\n",
       "      <td>22</td>\n",
       "      <td>45.0</td>\n",
       "      <td>4</td>\n",
       "      <td>16</td>\n",
       "      <td>15.0</td>\n",
       "      <td>2.0</td>\n",
       "      <td>0.0</td>\n",
       "      <td>1B</td>\n",
       "      <td>24.0</td>\n",
       "      <td>0.366864</td>\n",
       "    </tr>\n",
       "    <tr>\n",
       "      <th>2B</th>\n",
       "      <td>panikjo01</td>\n",
       "      <td>Joe</td>\n",
       "      <td>Panik</td>\n",
       "      <td>2015-09-09</td>\n",
       "      <td>2015</td>\n",
       "      <td>SFN</td>\n",
       "      <td>522500.0</td>\n",
       "      <td>382.0</td>\n",
       "      <td>59</td>\n",
       "      <td>119.0</td>\n",
       "      <td>8</td>\n",
       "      <td>37</td>\n",
       "      <td>38.0</td>\n",
       "      <td>5.0</td>\n",
       "      <td>4.0</td>\n",
       "      <td>2B</td>\n",
       "      <td>99.0</td>\n",
       "      <td>0.377622</td>\n",
       "    </tr>\n",
       "    <tr>\n",
       "      <th>3B</th>\n",
       "      <td>blancan01</td>\n",
       "      <td>Andres</td>\n",
       "      <td>Blanco</td>\n",
       "      <td>2015-10-04</td>\n",
       "      <td>2015</td>\n",
       "      <td>PHI</td>\n",
       "      <td>850000.0</td>\n",
       "      <td>233.0</td>\n",
       "      <td>32</td>\n",
       "      <td>68.0</td>\n",
       "      <td>7</td>\n",
       "      <td>25</td>\n",
       "      <td>21.0</td>\n",
       "      <td>4.0</td>\n",
       "      <td>0.0</td>\n",
       "      <td>3B</td>\n",
       "      <td>36.0</td>\n",
       "      <td>0.360465</td>\n",
       "    </tr>\n",
       "    <tr>\n",
       "      <th>LF</th>\n",
       "      <td>yelicch01</td>\n",
       "      <td>Christian</td>\n",
       "      <td>Yelich</td>\n",
       "      <td>2015-10-04</td>\n",
       "      <td>2015</td>\n",
       "      <td>MIA</td>\n",
       "      <td>570000.0</td>\n",
       "      <td>476.0</td>\n",
       "      <td>63</td>\n",
       "      <td>143.0</td>\n",
       "      <td>7</td>\n",
       "      <td>44</td>\n",
       "      <td>47.0</td>\n",
       "      <td>2.0</td>\n",
       "      <td>0.0</td>\n",
       "      <td>LF</td>\n",
       "      <td>103.0</td>\n",
       "      <td>0.365714</td>\n",
       "    </tr>\n",
       "    <tr>\n",
       "      <th>RF</th>\n",
       "      <td>springe01</td>\n",
       "      <td>George</td>\n",
       "      <td>Springer</td>\n",
       "      <td>2015-10-04</td>\n",
       "      <td>2015</td>\n",
       "      <td>HOU</td>\n",
       "      <td>512900.0</td>\n",
       "      <td>388.0</td>\n",
       "      <td>59</td>\n",
       "      <td>107.0</td>\n",
       "      <td>16</td>\n",
       "      <td>41</td>\n",
       "      <td>50.0</td>\n",
       "      <td>8.0</td>\n",
       "      <td>3.0</td>\n",
       "      <td>RF</td>\n",
       "      <td>93.0</td>\n",
       "      <td>0.367483</td>\n",
       "    </tr>\n",
       "    <tr>\n",
       "      <th>CF</th>\n",
       "      <td>polloaj01</td>\n",
       "      <td>A. J.</td>\n",
       "      <td>Pollock</td>\n",
       "      <td>2015-10-04</td>\n",
       "      <td>2015</td>\n",
       "      <td>ARI</td>\n",
       "      <td>519500.0</td>\n",
       "      <td>609.0</td>\n",
       "      <td>111</td>\n",
       "      <td>192.0</td>\n",
       "      <td>20</td>\n",
       "      <td>76</td>\n",
       "      <td>53.0</td>\n",
       "      <td>2.0</td>\n",
       "      <td>9.0</td>\n",
       "      <td>CF</td>\n",
       "      <td>151.0</td>\n",
       "      <td>0.367013</td>\n",
       "    </tr>\n",
       "    <tr>\n",
       "      <th>SS</th>\n",
       "      <td>colonch01</td>\n",
       "      <td>Christian</td>\n",
       "      <td>Colon</td>\n",
       "      <td>2015-10-04</td>\n",
       "      <td>2015</td>\n",
       "      <td>KCA</td>\n",
       "      <td>509525.0</td>\n",
       "      <td>107.0</td>\n",
       "      <td>8</td>\n",
       "      <td>31.0</td>\n",
       "      <td>0</td>\n",
       "      <td>6</td>\n",
       "      <td>11.0</td>\n",
       "      <td>0.0</td>\n",
       "      <td>0.0</td>\n",
       "      <td>SS</td>\n",
       "      <td>21.0</td>\n",
       "      <td>0.355932</td>\n",
       "    </tr>\n",
       "    <tr>\n",
       "      <th>C</th>\n",
       "      <td>cervefr01</td>\n",
       "      <td>Francisco</td>\n",
       "      <td>Cervelli</td>\n",
       "      <td>2015-10-04</td>\n",
       "      <td>2015</td>\n",
       "      <td>PIT</td>\n",
       "      <td>987500.0</td>\n",
       "      <td>451.0</td>\n",
       "      <td>56</td>\n",
       "      <td>133.0</td>\n",
       "      <td>7</td>\n",
       "      <td>43</td>\n",
       "      <td>46.0</td>\n",
       "      <td>8.0</td>\n",
       "      <td>1.0</td>\n",
       "      <td>C</td>\n",
       "      <td>128.0</td>\n",
       "      <td>0.369565</td>\n",
       "    </tr>\n",
       "    <tr>\n",
       "      <th>P</th>\n",
       "      <td>degroja01</td>\n",
       "      <td>Jacob</td>\n",
       "      <td>deGrom</td>\n",
       "      <td>2015-10-04</td>\n",
       "      <td>2015</td>\n",
       "      <td>NYN</td>\n",
       "      <td>556875.0</td>\n",
       "      <td>59.0</td>\n",
       "      <td>3</td>\n",
       "      <td>11.0</td>\n",
       "      <td>0</td>\n",
       "      <td>4</td>\n",
       "      <td>3.0</td>\n",
       "      <td>0.0</td>\n",
       "      <td>0.0</td>\n",
       "      <td>P</td>\n",
       "      <td>30.0</td>\n",
       "      <td>0.225806</td>\n",
       "    </tr>\n",
       "  </tbody>\n",
       "</table>\n",
       "</div>"
      ],
      "text/plain": [
       "     playerID  nameFirst  nameLast   finalGame yearID teamID    salary     AB  \\\n",
       "1B  rogerja02      Jason    Rogers  2015-10-03   2015    MIL  507500.0  152.0   \n",
       "2B  panikjo01        Joe     Panik  2015-09-09   2015    SFN  522500.0  382.0   \n",
       "3B  blancan01     Andres    Blanco  2015-10-04   2015    PHI  850000.0  233.0   \n",
       "LF  yelicch01  Christian    Yelich  2015-10-04   2015    MIA  570000.0  476.0   \n",
       "RF  springe01     George  Springer  2015-10-04   2015    HOU  512900.0  388.0   \n",
       "CF  polloaj01      A. J.   Pollock  2015-10-04   2015    ARI  519500.0  609.0   \n",
       "SS  colonch01  Christian     Colon  2015-10-04   2015    KCA  509525.0  107.0   \n",
       "C   cervefr01  Francisco  Cervelli  2015-10-04   2015    PIT  987500.0  451.0   \n",
       "P   degroja01      Jacob    deGrom  2015-10-04   2015    NYN  556875.0   59.0   \n",
       "\n",
       "      R      H  HR RBI    BB  HBP   SF POS      G       OBP  \n",
       "1B   22   45.0   4  16  15.0  2.0  0.0  1B   24.0  0.366864  \n",
       "2B   59  119.0   8  37  38.0  5.0  4.0  2B   99.0  0.377622  \n",
       "3B   32   68.0   7  25  21.0  4.0  0.0  3B   36.0  0.360465  \n",
       "LF   63  143.0   7  44  47.0  2.0  0.0  LF  103.0  0.365714  \n",
       "RF   59  107.0  16  41  50.0  8.0  3.0  RF   93.0  0.367483  \n",
       "CF  111  192.0  20  76  53.0  2.0  9.0  CF  151.0  0.367013  \n",
       "SS    8   31.0   0   6  11.0  0.0  0.0  SS   21.0  0.355932  \n",
       "C    56  133.0   7  43  46.0  8.0  1.0   C  128.0  0.369565  \n",
       "P     3   11.0   0   4   3.0  0.0  0.0   P   30.0  0.225806  "
      ]
     },
     "execution_count": 10,
     "metadata": {},
     "output_type": "execute_result"
    }
   ],
   "source": [
    "df"
   ]
  },
  {
   "cell_type": "code",
   "execution_count": null,
   "metadata": {
    "collapsed": true
   },
   "outputs": [],
   "source": []
  },
  {
   "cell_type": "code",
   "execution_count": null,
   "metadata": {
    "collapsed": true
   },
   "outputs": [],
   "source": []
  }
 ],
 "metadata": {
  "kernelspec": {
   "display_name": "Python 3",
   "language": "python",
   "name": "python3"
  },
  "language_info": {
   "codemirror_mode": {
    "name": "ipython",
    "version": 3
   },
   "file_extension": ".py",
   "mimetype": "text/x-python",
   "name": "python",
   "nbconvert_exporter": "python",
   "pygments_lexer": "ipython3",
   "version": "3.5.1"
  }
 },
 "nbformat": 4,
 "nbformat_minor": 0
}
